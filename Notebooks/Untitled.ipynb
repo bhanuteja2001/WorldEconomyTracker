{
 "cells": [
  {
   "cell_type": "code",
   "execution_count": 3,
   "id": "afce2a78-0d77-451d-8018-b1b7a98af7e9",
   "metadata": {},
   "outputs": [
    {
     "name": "stdout",
     "output_type": "stream",
     "text": [
      "Status code for exchange table 200\n",
      "Status code for gold table 200\n"
     ]
    }
   ],
   "source": [
    "import pandas as pd\n",
    "import numpy as np\n",
    "import requests\n",
    "import json\n",
    "import datetime\n",
    "\n",
    "def jprint(obj):\n",
    "    # create a formatted string of the Python JSON object\n",
    "    text = json.dumps(obj, sort_keys=True, indent=4)\n",
    "    print(text)\n",
    "\n",
    "\n",
    "df = pd.read_csv(\"exchange_rates_final.csv\")\n",
    "\n",
    "\n",
    "current_date = datetime.date.today()\n",
    "\n",
    "\n",
    "response_exchange = requests.get(\"http://api.nbp.pl/api/exchangerates/tables/A/{}\".format(current_date))\n",
    "print(\"Status code for exchange table\", response_exchange.status_code)\n",
    "response_gold = requests.get(\"http://api.nbp.pl/api/cenyzlota/{}\".format(current_date))\n",
    "print(\"Status code for gold table\", response_gold.status_code)\n",
    "\n",
    "if response_exchange.status_code == 200 and response_gold.status_code == 200:\n",
    "    row = {\"Date\" : current_date}\n",
    "    gold_price = response_gold.json()[0][\"cena\"]\n",
    "    \n",
    "    for currency in range(len(response_exchange.json()[0][\"rates\"])):\n",
    "        row_key = response_exchange.json()[0][\"rates\"][currency][\"code\"]\n",
    "        row_value = response_exchange.json()[0][\"rates\"][currency][\"mid\"]\n",
    "        row[str(row_key)] = row_value \n",
    "    \n",
    "    \n",
    "    row[\"gold_price\"] = gold_price\n",
    "    new_df = pd.DataFrame([row])\n",
    "    df = df.append(new_df, ignore_index=True)"
   ]
  },
  {
   "cell_type": "code",
   "execution_count": 2,
   "id": "6e583255-10fd-48aa-8ff3-45ba33621fca",
   "metadata": {},
   "outputs": [
    {
     "ename": "ModuleNotFoundError",
     "evalue": "No module named 'awswrangler'",
     "output_type": "error",
     "traceback": [
      "\u001b[0;31m---------------------------------------------------------------------------\u001b[0m",
      "\u001b[0;31mModuleNotFoundError\u001b[0m                       Traceback (most recent call last)",
      "\u001b[0;32m/var/folders/f3/10lpz7y17fq3fsp41020l2x00000gn/T/ipykernel_6047/2656613347.py\u001b[0m in \u001b[0;36m<module>\u001b[0;34m\u001b[0m\n\u001b[1;32m      2\u001b[0m \u001b[0;32mimport\u001b[0m \u001b[0mjson\u001b[0m\u001b[0;34m\u001b[0m\u001b[0;34m\u001b[0m\u001b[0m\n\u001b[1;32m      3\u001b[0m \u001b[0;32mimport\u001b[0m \u001b[0mdatetime\u001b[0m\u001b[0;34m\u001b[0m\u001b[0;34m\u001b[0m\u001b[0m\n\u001b[0;32m----> 4\u001b[0;31m \u001b[0;32mimport\u001b[0m \u001b[0mawswrangler\u001b[0m \u001b[0;32mas\u001b[0m \u001b[0mwr\u001b[0m\u001b[0;34m\u001b[0m\u001b[0;34m\u001b[0m\u001b[0m\n\u001b[0m\u001b[1;32m      5\u001b[0m \u001b[0;34m\u001b[0m\u001b[0m\n\u001b[1;32m      6\u001b[0m \u001b[0mcurrent_date\u001b[0m \u001b[0;34m=\u001b[0m \u001b[0mdatetime\u001b[0m\u001b[0;34m.\u001b[0m\u001b[0mdate\u001b[0m\u001b[0;34m.\u001b[0m\u001b[0mtoday\u001b[0m\u001b[0;34m(\u001b[0m\u001b[0;34m)\u001b[0m\u001b[0;34m\u001b[0m\u001b[0;34m\u001b[0m\u001b[0m\n",
      "\u001b[0;31mModuleNotFoundError\u001b[0m: No module named 'awswrangler'"
     ]
    }
   ],
   "source": [
    "import requests\n",
    "import json\n",
    "import datetime\n",
    "import awswrangler as wr\n",
    "\n",
    "current_date = datetime.date.today()\n",
    "os_input_s3_cleansed_layer = os.environ['s3_cleansed_layer']\n",
    "\n",
    "\n",
    "def lambda_handler(event, context):\n",
    "    \n",
    "    response_exchange = requests.get(\"http://api.nbp.pl/api/exchangerates/tables/A/{}\".format(current_date))\n",
    "    print(\"Status code for exchange table\", response_exchange.status_code)\n",
    "    response_gold = requests.get(\"http://api.nbp.pl/api/cenyzlota/{}\".format(current_date))\n",
    "    print(\"Status code for gold table\", response_gold.status_code)\n",
    "    \n",
    "    if response_exchange.status_code == 200 and response_gold.status_code == 200:\n",
    "        row = {\"Date\" : current_date}\n",
    "        gold_price = response_gold.json()[0][\"cena\"]\n",
    "        \n",
    "        for currency in range(len(response_exchange.json()[0][\"rates\"])):\n",
    "            row_key = response_exchange.json()[0][\"rates\"][currency][\"code\"]\n",
    "            row_value = response_exchange.json()[0][\"rates\"][currency][\"mid\"]\n",
    "            row[str(row_key)] = row_value \n",
    "        \n",
    "        \n",
    "        row[\"gold_price\"] = gold_price\n",
    "    \n",
    "    \n",
    "        wr_response = wr.s3.to_parquet(\n",
    "                df=new_df,\n",
    "                path=os_input_s3_cleansed_layer,\n",
    "                dataset=True,\n",
    "            )"
   ]
  },
  {
   "cell_type": "code",
   "execution_count": 5,
   "id": "038093e1-d747-44ff-af13-20ab970e263c",
   "metadata": {},
   "outputs": [
    {
     "data": {
      "text/plain": [
       "(929, 35)"
      ]
     },
     "execution_count": 5,
     "metadata": {},
     "output_type": "execute_result"
    }
   ],
   "source": [
    "df.shape"
   ]
  },
  {
   "cell_type": "code",
   "execution_count": null,
   "id": "e40ac51c-83c7-49ae-8523-76b97c978a3e",
   "metadata": {},
   "outputs": [],
   "source": []
  }
 ],
 "metadata": {
  "kernelspec": {
   "display_name": "Python [conda env:pipeline]",
   "language": "python",
   "name": "conda-env-pipeline-py"
  },
  "language_info": {
   "codemirror_mode": {
    "name": "ipython",
    "version": 3
   },
   "file_extension": ".py",
   "mimetype": "text/x-python",
   "name": "python",
   "nbconvert_exporter": "python",
   "pygments_lexer": "ipython3",
   "version": "3.7.16"
  }
 },
 "nbformat": 4,
 "nbformat_minor": 5
}
